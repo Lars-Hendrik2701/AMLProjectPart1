{
 "cells": [
  {
   "cell_type": "code",
   "execution_count": 7,
   "metadata": {},
   "outputs": [],
   "source": [
    "import numpy as np\n",
    "import pandas as pd\n",
    "from pathlib import Path\n",
    "from matplotlib import pyplot as plt\n",
    "from plotly.offline import plot\n",
    "\n",
    "import plotly.express as px\n",
    "import plotly.graph_objects as go\n",
    "from plotly.subplots import make_subplots\n",
    "\n",
    "from utils import save_plotly_figure_as_html\n",
    "from ex_01_read_data import get_welding_data\n",
    "\n"
   ]
  },
  {
   "cell_type": "code",
   "execution_count": 8,
   "metadata": {},
   "outputs": [],
   "source": [
    "data_path = Path(\"data/Welding/data.csv\")\n",
    "plot_path = Path(\"plots/ex_02\")"
   ]
  },
  {
   "cell_type": "markdown",
   "metadata": {},
   "source": [
    "## Exercise 2.1: Dataset Statistics Analysis\n",
    "\n",
    "In this exercise, we'll calculate and present comprehensive descriptive statistics for the welding dataset. This statistical overview will help us understand the fundamental characteristics of our data before visualization or modeling.\n",
    "\n",
    "1. Calculate the class distribution to understand data balance\n",
    "2. Count samples per experiment to assess data volume across experimental conditions\n",
    "3. Determine min/max values for voltage and current to understand the range of measurements\n",
    "4. Calculate mean and standard deviation to assess central tendency and variability\n",
    "5. Find median values to identify central points unaffected by outliers"
   ]
  },
  {
   "cell_type": "code",
   "execution_count": null,
   "metadata": {},
   "outputs": [],
   "source": [
    "data, labels, exp_ids = get_welding_data(data_path)"
   ]
  },
  {
   "cell_type": "code",
   "execution_count": 1,
   "metadata": {},
   "outputs": [
    {
     "ename": "ValueError",
     "evalue": "Data must be 1-dimensional, got ndarray of shape (157965, 200, 2) instead",
     "output_type": "error",
     "traceback": [
      "\u001b[31m---------------------------------------------------------------------------\u001b[39m",
      "\u001b[31mValueError\u001b[39m                                Traceback (most recent call last)",
      "\u001b[36mCell\u001b[39m\u001b[36m \u001b[39m\u001b[32mIn[1]\u001b[39m\u001b[32m, line 19\u001b[39m\n\u001b[32m     11\u001b[39m labels, exp_ids, data = get_welding_data(data_path)\n\u001b[32m     13\u001b[39m \u001b[38;5;66;03m# data hat Shape (n_samples, timesteps, 2), \u001b[39;00m\n\u001b[32m     14\u001b[39m \u001b[38;5;66;03m#  Feature-Dimension 0 = current, 1 = voltage\u001b[39;00m\n\u001b[32m     15\u001b[39m \n\u001b[32m     16\u001b[39m \u001b[38;5;66;03m# --- Exercise 2.1: Dataset Statistics Analysis ---\u001b[39;00m\n\u001b[32m     17\u001b[39m \n\u001b[32m     18\u001b[39m \u001b[38;5;66;03m# 1. Klassenverteilung (je Sample ein Label)\u001b[39;00m\n\u001b[32m---> \u001b[39m\u001b[32m19\u001b[39m class_counts = \u001b[43mpd\u001b[49m\u001b[43m.\u001b[49m\u001b[43mSeries\u001b[49m\u001b[43m(\u001b[49m\u001b[43mlabels\u001b[49m\u001b[43m)\u001b[49m.value_counts().sort_index()\n\u001b[32m     20\u001b[39m \u001b[38;5;28mprint\u001b[39m(\u001b[33m\"\u001b[39m\u001b[33m1) Klassenverteilung:\u001b[39m\u001b[33m\"\u001b[39m)\n\u001b[32m     21\u001b[39m \u001b[38;5;28mprint\u001b[39m(class_counts)\n",
      "\u001b[36mFile \u001b[39m\u001b[32m~/aml/AMLProjectPart1/venv/lib/python3.12/site-packages/pandas/core/series.py:584\u001b[39m, in \u001b[36mSeries.__init__\u001b[39m\u001b[34m(self, data, index, dtype, name, copy, fastpath)\u001b[39m\n\u001b[32m    582\u001b[39m         data = data.copy()\n\u001b[32m    583\u001b[39m \u001b[38;5;28;01melse\u001b[39;00m:\n\u001b[32m--> \u001b[39m\u001b[32m584\u001b[39m     data = \u001b[43msanitize_array\u001b[49m\u001b[43m(\u001b[49m\u001b[43mdata\u001b[49m\u001b[43m,\u001b[49m\u001b[43m \u001b[49m\u001b[43mindex\u001b[49m\u001b[43m,\u001b[49m\u001b[43m \u001b[49m\u001b[43mdtype\u001b[49m\u001b[43m,\u001b[49m\u001b[43m \u001b[49m\u001b[43mcopy\u001b[49m\u001b[43m)\u001b[49m\n\u001b[32m    586\u001b[39m     manager = _get_option(\u001b[33m\"\u001b[39m\u001b[33mmode.data_manager\u001b[39m\u001b[33m\"\u001b[39m, silent=\u001b[38;5;28;01mTrue\u001b[39;00m)\n\u001b[32m    587\u001b[39m     \u001b[38;5;28;01mif\u001b[39;00m manager == \u001b[33m\"\u001b[39m\u001b[33mblock\u001b[39m\u001b[33m\"\u001b[39m:\n",
      "\u001b[36mFile \u001b[39m\u001b[32m~/aml/AMLProjectPart1/venv/lib/python3.12/site-packages/pandas/core/construction.py:659\u001b[39m, in \u001b[36msanitize_array\u001b[39m\u001b[34m(data, index, dtype, copy, allow_2d)\u001b[39m\n\u001b[32m    656\u001b[39m             subarr = cast(np.ndarray, subarr)\n\u001b[32m    657\u001b[39m             subarr = maybe_infer_to_datetimelike(subarr)\n\u001b[32m--> \u001b[39m\u001b[32m659\u001b[39m subarr = \u001b[43m_sanitize_ndim\u001b[49m\u001b[43m(\u001b[49m\u001b[43msubarr\u001b[49m\u001b[43m,\u001b[49m\u001b[43m \u001b[49m\u001b[43mdata\u001b[49m\u001b[43m,\u001b[49m\u001b[43m \u001b[49m\u001b[43mdtype\u001b[49m\u001b[43m,\u001b[49m\u001b[43m \u001b[49m\u001b[43mindex\u001b[49m\u001b[43m,\u001b[49m\u001b[43m \u001b[49m\u001b[43mallow_2d\u001b[49m\u001b[43m=\u001b[49m\u001b[43mallow_2d\u001b[49m\u001b[43m)\u001b[49m\n\u001b[32m    661\u001b[39m \u001b[38;5;28;01mif\u001b[39;00m \u001b[38;5;28misinstance\u001b[39m(subarr, np.ndarray):\n\u001b[32m    662\u001b[39m     \u001b[38;5;66;03m# at this point we should have dtype be None or subarr.dtype == dtype\u001b[39;00m\n\u001b[32m    663\u001b[39m     dtype = cast(np.dtype, dtype)\n",
      "\u001b[36mFile \u001b[39m\u001b[32m~/aml/AMLProjectPart1/venv/lib/python3.12/site-packages/pandas/core/construction.py:718\u001b[39m, in \u001b[36m_sanitize_ndim\u001b[39m\u001b[34m(result, data, dtype, index, allow_2d)\u001b[39m\n\u001b[32m    716\u001b[39m     \u001b[38;5;28;01mif\u001b[39;00m allow_2d:\n\u001b[32m    717\u001b[39m         \u001b[38;5;28;01mreturn\u001b[39;00m result\n\u001b[32m--> \u001b[39m\u001b[32m718\u001b[39m     \u001b[38;5;28;01mraise\u001b[39;00m \u001b[38;5;167;01mValueError\u001b[39;00m(\n\u001b[32m    719\u001b[39m         \u001b[33mf\u001b[39m\u001b[33m\"\u001b[39m\u001b[33mData must be 1-dimensional, got ndarray of shape \u001b[39m\u001b[38;5;132;01m{\u001b[39;00mdata.shape\u001b[38;5;132;01m}\u001b[39;00m\u001b[33m instead\u001b[39m\u001b[33m\"\u001b[39m\n\u001b[32m    720\u001b[39m     )\n\u001b[32m    721\u001b[39m \u001b[38;5;28;01mif\u001b[39;00m is_object_dtype(dtype) \u001b[38;5;129;01mand\u001b[39;00m \u001b[38;5;28misinstance\u001b[39m(dtype, ExtensionDtype):\n\u001b[32m    722\u001b[39m     \u001b[38;5;66;03m# i.e. NumpyEADtype(\"O\")\u001b[39;00m\n\u001b[32m    724\u001b[39m     result = com.asarray_tuplesafe(data, dtype=np.dtype(\u001b[33m\"\u001b[39m\u001b[33mobject\u001b[39m\u001b[33m\"\u001b[39m))\n",
      "\u001b[31mValueError\u001b[39m: Data must be 1-dimensional, got ndarray of shape (157965, 200, 2) instead"
     ]
    }
   ],
   "source": [
    "import numpy as np\n",
    "import pandas as pd\n",
    "from pathlib import Path\n",
    "from ex_01_read_data import get_welding_data\n",
    "\n",
    "# 1) Pfad zur CSV-Datei\n",
    "data_path = Path(\"data/Welding/data.csv\")\n",
    "\n",
    "# 2) Daten laden\n",
    "#    WICHTIG: get_welding_data liefert (labels, exp_ids, data)\n",
    "labels, exp_ids, data = get_welding_data(data_path)\n",
    "\n",
    "# data hat Shape (n_samples, timesteps, 2), \n",
    "#  Feature-Dimension 0 = current, 1 = voltage\n",
    "\n",
    "# --- Exercise 2.1: Dataset Statistics Analysis ---\n",
    "\n",
    "# 1. Klassenverteilung (je Sample ein Label)\n",
    "class_counts = pd.Series(labels).value_counts().sort_index()\n",
    "print(\"1) Klassenverteilung:\")\n",
    "print(class_counts)\n",
    "\n",
    "# 2. Anzahl Samples pro Experiment\n",
    "exp_counts = pd.Series(exp_ids).value_counts().sort_index()\n",
    "print(\"\\n2) Samples pro Experiment:\")\n",
    "print(exp_counts)\n",
    "\n",
    "# 3. Min/Max-Werte über alle Messpunkte hinweg\n",
    "#    Wir „flatten“ Samples und Timesteps, getrennt für current und voltage\n",
    "curr_values = data[:, :, 0].ravel()\n",
    "volt_values = data[:, :, 1].ravel()\n",
    "\n",
    "print(f\"\\n3) Spannung: min = {volt_values.min():.3f}, max = {volt_values.max():.3f}\")\n",
    "print(f\"   Strom:     min = {curr_values.min():.3f}, max = {curr_values.max():.3f}\")\n",
    "\n",
    "# 4. Mittelwert & Standardabweichung\n",
    "print(f\"\\n4) Spannung: mean = {volt_values.mean():.3f}, std = {volt_values.std(ddof=1):.3f}\")\n",
    "print(f\"   Strom:     mean = {curr_values.mean():.3f}, std = {curr_values.std(ddof=1):.3f}\")\n",
    "\n",
    "# 5. Medianwerte\n",
    "print(f\"\\n5) Spannung: median = {np.median(volt_values):.3f}\")\n",
    "print(f\"   Strom:     median = {np.median(curr_values):.3f}\")\n"
   ]
  },
  {
   "cell_type": "markdown",
   "metadata": {},
   "source": [
    "## Exercise 2.2: Current and Voltage Distribution Visualization\n",
    "\n",
    "In this exercise, we'll create interactive boxplots to visualize and compare the distributions of voltage and current measurements in the welding data. Boxplots will help us identify central tendencies, spread, and potential outliers in our measurements.\n",
    "\n",
    "1. Create side-by-side boxplots for voltage and current using Plotly\n",
    "2. Display key statistics (median, quartiles, etc.) in a visual format in the plot\n",
    "3. Enable interactive exploration of the distributions\n",
    "4. Save the visualization for future reference"
   ]
  },
  {
   "cell_type": "code",
   "execution_count": null,
   "metadata": {},
   "outputs": [],
   "source": [
    "data, labels, exp_ids = get_welding_data(data_path, n_samples=10_000)\n",
    "\n",
    "save_path =  plot_path / \"voltage_current_distribution\""
   ]
  },
  {
   "cell_type": "code",
   "execution_count": null,
   "metadata": {},
   "outputs": [],
   "source": []
  },
  {
   "cell_type": "markdown",
   "metadata": {},
   "source": [
    "## Exercise 2.3: Time-Series Sequence Visualization\n",
    "\n",
    "In this exercise, we'll implement functions to visualize the time-series patterns of welding cycles. These visualizations will help us understand the temporal relationships between voltage and current during the welding process and identify patterns associated with quality outcomes.\n",
    "\n",
    "1. Create dual-axis plots showing voltage and current over time (10 welding cycles -> sequence_length=10) using matplotlib\n",
    "2. Implement clear legends and labels for data interpretation\n",
    "3. Enable saving of visualizations for reporting and comparison"
   ]
  },
  {
   "cell_type": "code",
   "execution_count": null,
   "metadata": {},
   "outputs": [],
   "source": [
    "\n",
    "data, labels, exp_ids = get_welding_data(data_path, n_samples=100, return_sequences=True, sequence_length=10)\n",
    "save_path = plot_path / \"welding_sample.png\"    "
   ]
  },
  {
   "cell_type": "code",
   "execution_count": null,
   "metadata": {},
   "outputs": [],
   "source": []
  },
  {
   "cell_type": "markdown",
   "metadata": {},
   "source": [
    "## Exercise 2.4: Interactive Time-Series Visualization with Plotly\n",
    "\n",
    "In this exercise, we'll create enhanced interactive visualizations of welding samples using Plotly. These interactive plots will provide more advanced exploration capabilities for analyzing the time-series patterns.\n",
    "\n",
    "1. Create interactive plots with dual y-axes for voltage and current\n",
    "2. Implement time-based range sliders for detailed exploration\n",
    "3. Add unified tooltips for precise data reading\n",
    "4. Display quality metrics in the plot title\n",
    "5. Save interactive visualizations as HTML for sharing"
   ]
  },
  {
   "cell_type": "code",
   "execution_count": null,
   "metadata": {},
   "outputs": [],
   "source": [
    "def create_plotly_plot(data: np.ndarray, labels: np.ndarray, exp_ids: np.ndarray = None) -> go.Figure:\n",
    "    \"\"\"\n",
    "    Create an interactive Plotly visualization of a random welding sample.\n",
    "\n",
    "    Args:\n",
    "        data (np.ndarray): Array containing voltage and current data\n",
    "        labels (np.ndarray): Array containing class labels\n",
    "        exp_ids (np.ndarray, optional): Array containing experiment IDs. Defaults to None.\n",
    "\n",
    "    Returns:\n",
    "        plotly.graph_objects.Figure: Interactive Plotly figure object\n",
    "    \"\"\"\n",
    "    pass\n",
    "\n",
    "\n",
    "fig = create_plotly_plot(data, labels, exp_ids)\n",
    "save_plotly_figure_as_html(fig, plot_path / \"welding_samples\")\n",
    "fig.show()"
   ]
  },
  {
   "cell_type": "markdown",
   "metadata": {},
   "source": [
    "## Exercise 2.5: Multiple Sample Comparison\n",
    "\n",
    "In this exercise, we'll generate and compare visualizations from multiple random welding samples. This comparison will help us identify common patterns and variations across different welding cycles.\n",
    " \n",
    "\n",
    "1. Generate multiple random sample visualizations using matplotlib of single welding cycles\n",
    "2. Create dual-axis plots showing voltage and current over time\n",
    "3. Implement clear legends and labels for data interpretation\n",
    "4. Save each visualization for comparison"
   ]
  },
  {
   "cell_type": "code",
   "execution_count": null,
   "metadata": {},
   "outputs": [],
   "source": [
    "data, labels, exp_ids = get_welding_data(data_path, n_samples=1_000)"
   ]
  },
  {
   "cell_type": "code",
   "execution_count": null,
   "metadata": {},
   "outputs": [],
   "source": [
    "for i in range(5):\n",
    "    plot_random_sample(data, labels, save_path=plot_path / f\"welding_sample_{i}.png\")\n",
    "    "
   ]
  },
  {
   "cell_type": "code",
   "execution_count": null,
   "metadata": {},
   "outputs": [],
   "source": []
  }
 ],
 "metadata": {
  "kernelspec": {
   "display_name": "venv",
   "language": "python",
   "name": "python3"
  },
  "language_info": {
   "codemirror_mode": {
    "name": "ipython",
    "version": 3
   },
   "file_extension": ".py",
   "mimetype": "text/x-python",
   "name": "python",
   "nbconvert_exporter": "python",
   "pygments_lexer": "ipython3",
   "version": "3.12.3"
  }
 },
 "nbformat": 4,
 "nbformat_minor": 2
}
