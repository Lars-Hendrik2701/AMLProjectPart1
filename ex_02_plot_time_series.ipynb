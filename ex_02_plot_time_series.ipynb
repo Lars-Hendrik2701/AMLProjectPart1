{
 "cells": [
  {
   "cell_type": "code",
   "execution_count": 8,
   "metadata": {},
   "outputs": [],
   "source": [
    "import numpy as np\n",
    "import pandas as pd\n",
    "from pathlib import Path\n",
    "from matplotlib import pyplot as plt\n",
    "from plotly.offline import plot\n",
    "\n",
    "import plotly.express as px\n",
    "import plotly.graph_objects as go\n",
    "from plotly.subplots import make_subplots\n",
    "import plotly.io as pio\n",
    "\n",
    "from utils import save_plotly_figure_as_html\n",
    "from ex_01_read_data import get_welding_data\n",
    "\n"
   ]
  },
  {
   "cell_type": "code",
   "execution_count": 9,
   "metadata": {},
   "outputs": [],
   "source": [
    "data_path = Path(\"data/Welding/data.csv\")"
   ]
  },
  {
   "cell_type": "markdown",
   "metadata": {},
   "source": [
    "## Exercise 2.1: Dataset Statistics Analysis\n",
    "\n",
    "In this exercise, we'll calculate and present comprehensive descriptive statistics for the welding dataset. This statistical overview will help us understand the fundamental characteristics of our data before visualization or modeling.\n",
    "\n",
    "1. Calculate the class distribution to understand data balance\n",
    "2. Count samples per experiment to assess data volume across experimental conditions\n",
    "3. Determine min/max values for voltage and current to understand the range of measurements\n",
    "4. Calculate mean and standard deviation to assess central tendency and variability\n",
    "5. Find median values to identify central points unaffected by outliers"
   ]
  },
  {
   "cell_type": "code",
   "execution_count": 10,
   "metadata": {},
   "outputs": [],
   "source": [
    "data, labels, exp_ids = get_welding_data(data_path)"
   ]
  },
  {
   "cell_type": "code",
   "execution_count": 11,
   "metadata": {},
   "outputs": [
    {
     "name": "stdout",
     "output_type": "stream",
     "text": [
      "1) Klassenverteilung:\n",
      "0    90746\n",
      "1    67219\n",
      "Name: count, dtype: int64\n",
      "\n",
      "2) Samples pro Experiment:\n",
      "1    35521\n",
      "2    17913\n",
      "3    46768\n",
      "4    57763\n",
      "Name: count, dtype: int64\n",
      "\n",
      "3) Spannung: min = 0.074, max = 101.485\n",
      "   Strom:     min = -1.181, max = 614.154\n",
      "\n",
      "4) Spannung: mean = 22.037, std = 6.025\n",
      "   Strom:     mean = 173.456, std = 180.841\n",
      "\n",
      "5) Spannung: median = 20.841\n",
      "   Strom:     median = 68.588\n"
     ]
    }
   ],
   "source": [
    "# 1. Klassenverteilung (je Sample ein Label)\n",
    "class_counts = pd.Series(labels).value_counts().sort_index()\n",
    "print(\"1) Klassenverteilung:\")\n",
    "print(class_counts)\n",
    "\n",
    "# 2. Anzahl Samples pro Experiment\n",
    "exp_counts = pd.Series(exp_ids).value_counts().sort_index()\n",
    "print(\"\\n2) Samples pro Experiment:\")\n",
    "print(exp_counts)\n",
    "\n",
    "# 3. Min/Max-Werte über alle Messpunkte hinweg\n",
    "#    Wir „flatten“ Samples und Timesteps, getrennt für current und voltage\n",
    "curr_values = data[:, :, 0].ravel()\n",
    "volt_values = data[:, :, 1].ravel()\n",
    "\n",
    "print(f\"\\n3) Spannung: min = {volt_values.min():.3f}, max = {volt_values.max():.3f}\")\n",
    "print(f\"   Strom:     min = {curr_values.min():.3f}, max = {curr_values.max():.3f}\")\n",
    "\n",
    "# 4. Mittelwert & Standardabweichung\n",
    "print(f\"\\n4) Spannung: mean = {volt_values.mean():.3f}, std = {volt_values.std(ddof=1):.3f}\")\n",
    "print(f\"   Strom:     mean = {curr_values.mean():.3f}, std = {curr_values.std(ddof=1):.3f}\")\n",
    "\n",
    "# 5. Medianwerte\n",
    "print(f\"\\n5) Spannung: median = {np.median(volt_values):.3f}\")\n",
    "print(f\"   Strom:     median = {np.median(curr_values):.3f}\")\n"
   ]
  },
  {
   "cell_type": "markdown",
   "metadata": {},
   "source": [
    "## Exercise 2.2: Current and Voltage Distribution Visualization\n",
    "\n",
    "In this exercise, we'll create interactive boxplots to visualize and compare the distributions of voltage and current measurements in the welding data. Boxplots will help us identify central tendencies, spread, and potential outliers in our measurements.\n",
    "\n",
    "1. Create side-by-side boxplots for voltage and current using Plotly\n",
    "2. Display key statistics (median, quartiles, etc.) in a visual format in the plot\n",
    "3. Enable interactive exploration of the distributions\n",
    "4. Save the visualization for future reference"
   ]
  },
  {
   "cell_type": "code",
   "execution_count": 12,
   "metadata": {},
   "outputs": [],
   "source": [
    "data, labels, exp_ids = get_welding_data(data_path, n_samples=10_000)\n",
    "\n",
    "pio.renderers.default = \"png\""
   ]
  },
  {
   "cell_type": "code",
   "execution_count": null,
   "metadata": {},
   "outputs": [
    {
     "ename": "IndexError",
     "evalue": "too many indices for array: array is 1-dimensional, but 3 were indexed",
     "output_type": "error",
     "traceback": [
      "\u001b[31m---------------------------------------------------------------------------\u001b[39m",
      "\u001b[31mIndexError\u001b[39m                                Traceback (most recent call last)",
      "\u001b[36mCell\u001b[39m\u001b[36m \u001b[39m\u001b[32mIn[14]\u001b[39m\u001b[32m, line 23\u001b[39m\n\u001b[32m     16\u001b[39m labels, exp_ids, data = get_welding_data(data_path, n_samples=\u001b[32m10_000\u001b[39m)\n\u001b[32m     18\u001b[39m \u001b[38;5;66;03m# data.shape = (n_samples, timesteps, 2)\u001b[39;00m\n\u001b[32m     19\u001b[39m \u001b[38;5;66;03m# feature-index 0 = current, 1 = voltage\u001b[39;00m\n\u001b[32m     20\u001b[39m \n\u001b[32m     21\u001b[39m \u001b[38;5;66;03m# --- Variante 2: Sample-Level Statistik ---------------------\u001b[39;00m\n\u001b[32m     22\u001b[39m \u001b[38;5;66;03m# Für jeden Zyklus den Mittelwert über alle Timesteps berechnen\u001b[39;00m\n\u001b[32m---> \u001b[39m\u001b[32m23\u001b[39m mean_currents = \u001b[43mdata\u001b[49m\u001b[43m[\u001b[49m\u001b[43m:\u001b[49m\u001b[43m,\u001b[49m\u001b[43m \u001b[49m\u001b[43m:\u001b[49m\u001b[43m,\u001b[49m\u001b[43m \u001b[49m\u001b[32;43m0\u001b[39;49m\u001b[43m]\u001b[49m.mean(axis=\u001b[32m1\u001b[39m)\n\u001b[32m     24\u001b[39m mean_voltages = data[:, :, \u001b[32m1\u001b[39m].mean(axis=\u001b[32m1\u001b[39m)\n\u001b[32m     26\u001b[39m \u001b[38;5;66;03m# --- DataFrame und Umformung in langes Format ---------------\u001b[39;00m\n",
      "\u001b[31mIndexError\u001b[39m: too many indices for array: array is 1-dimensional, but 3 were indexed"
     ]
    }
   ],
   "source": [
    "# --- Pfade & Ordner anlegen ---\n",
    "data_path     = Path(\"data/Welding/data.csv\")\n",
    "plot_folder   = Path(\"plots/ex_02\")\n",
    "docs_folder   = Path(\"docs\")\n",
    "html_filename = \"voltage_current_distribution.html\"\n",
    "\n",
    "plot_folder.mkdir(parents=True, exist_ok=True)\n",
    "docs_folder.mkdir(parents=True, exist_ok=True)\n",
    "\n",
    "html_save_plot = plot_folder / html_filename\n",
    "html_save_docs = docs_folder  / html_filename\n",
    "png_save_plot  = plot_folder / \"voltage_current_distribution.png\"\n",
    "\n",
    "# --- Daten laden (korrekt unpacken!) ---\n",
    "data, labels, exp_ids = get_welding_data(data_path, n_samples=10_000)\n",
    "# data.shape == (n_samples, timesteps, 2)\n",
    "# feature-index 0 = current, 1 = voltage\n",
    "\n",
    "# --- Variante 2: Mittelwerte pro Zyklus berechnen ---\n",
    "mean_currents = data[:, :, 0].mean(axis=1)\n",
    "mean_voltages = data[:, :, 1].mean(axis=1)\n",
    "\n",
    "# --- DataFrame & langes Format ---\n",
    "df = pd.DataFrame({\n",
    "    \"Mean Current (A)\": mean_currents,\n",
    "    \"Mean Voltage (V)\": mean_voltages\n",
    "})\n",
    "df_long = df.melt(var_name=\"Measurement\", value_name=\"Mean Value\")\n",
    "\n",
    "# --- Kennzahlen für Titel ---\n",
    "med_curr   = np.median(mean_currents)\n",
    "q1_curr, q3_curr = np.percentile(mean_currents, [25, 75])\n",
    "med_volt   = np.median(mean_voltages)\n",
    "q1_volt, q3_volt = np.percentile(mean_voltages, [25, 75])\n",
    "\n",
    "# --- Interaktiven Boxplot erzeugen ---\n",
    "fig = px.box(\n",
    "    df_long,\n",
    "    x=\"Measurement\",\n",
    "    y=\"Mean Value\",\n",
    "    points=\"all\",\n",
    "    title=(\n",
    "        \"Verteilung der Stichproben-Mittelwerte<br>\"\n",
    "        f\"Current: median={med_curr:.2f}, Q1={q1_curr:.2f}, Q3={q3_curr:.2f}<br>\"\n",
    "        f\"Voltage: median={med_volt:.2f}, Q1={q1_volt:.2f}, Q3={q3_volt:.2f}\"\n",
    "    ),\n",
    "    labels={\"Mean Value\": \"Durchschnittlicher Messwert\", \"Measurement\": \"Messgröße\"},\n",
    "    template=\"plotly_white\"\n",
    ")\n",
    "fig.update_layout(width=800, height=500, margin=dict(l=40, r=40, t=100, b=40), showlegend=False)\n",
    "\n",
    "# --- Speichern ---\n",
    "save_plotly_figure_as_html(fig, html_save_plot)          # local plots/\n",
    "fig.write_html(str(html_save_docs), include_plotlyjs=\"cdn\")  # docs/ für GitHub Pages\n",
    "fig.write_image(str(png_save_plot))                         # optional PNG\n",
    "\n",
    "# --- Inline-Anzeige ---\n",
    "fig.show(renderer=\"png\")\n",
    "\n",
    "print(f\"• plots-HTML: {html_save_plot}\")\n",
    "print(f\"• docs-HTML:  {html_save_docs}\")\n",
    "print(f\"• PNG:        {png_save_plot}\")"
   ]
  },
  {
   "cell_type": "markdown",
   "metadata": {},
   "source": [
    "## Exercise 2.3: Time-Series Sequence Visualization\n",
    "\n",
    "In this exercise, we'll implement functions to visualize the time-series patterns of welding cycles. These visualizations will help us understand the temporal relationships between voltage and current during the welding process and identify patterns associated with quality outcomes.\n",
    "\n",
    "1. Create dual-axis plots showing voltage and current over time (10 welding cycles -> sequence_length=10) using matplotlib\n",
    "2. Implement clear legends and labels for data interpretation\n",
    "3. Enable saving of visualizations for reporting and comparison"
   ]
  },
  {
   "cell_type": "code",
   "execution_count": null,
   "metadata": {},
   "outputs": [
    {
     "ename": "NameError",
     "evalue": "name 'plot_path' is not defined",
     "output_type": "error",
     "traceback": [
      "\u001b[31m---------------------------------------------------------------------------\u001b[39m",
      "\u001b[31mNameError\u001b[39m                                 Traceback (most recent call last)",
      "\u001b[36mCell\u001b[39m\u001b[36m \u001b[39m\u001b[32mIn[7]\u001b[39m\u001b[32m, line 2\u001b[39m\n\u001b[32m      1\u001b[39m data, labels, exp_ids = get_welding_data(data_path, n_samples=\u001b[32m100\u001b[39m, return_sequences=\u001b[38;5;28;01mTrue\u001b[39;00m, sequence_length=\u001b[32m10\u001b[39m)\n\u001b[32m----> \u001b[39m\u001b[32m2\u001b[39m save_path = \u001b[43mplot_path\u001b[49m / \u001b[33m\"\u001b[39m\u001b[33mwelding_sample.png\u001b[39m\u001b[33m\"\u001b[39m    \n",
      "\u001b[31mNameError\u001b[39m: name 'plot_path' is not defined"
     ]
    }
   ],
   "source": [
    "\n",
    "data, labels, exp_ids = get_welding_data(data_path, n_samples=100, return_sequences=True, sequence_length=10)\n",
    "save_path = plot_path / \"welding_sample.png\"    "
   ]
  },
  {
   "cell_type": "code",
   "execution_count": null,
   "metadata": {},
   "outputs": [],
   "source": []
  },
  {
   "cell_type": "markdown",
   "metadata": {},
   "source": [
    "## Exercise 2.4: Interactive Time-Series Visualization with Plotly\n",
    "\n",
    "In this exercise, we'll create enhanced interactive visualizations of welding samples using Plotly. These interactive plots will provide more advanced exploration capabilities for analyzing the time-series patterns.\n",
    "\n",
    "1. Create interactive plots with dual y-axes for voltage and current\n",
    "2. Implement time-based range sliders for detailed exploration\n",
    "3. Add unified tooltips for precise data reading\n",
    "4. Display quality metrics in the plot title\n",
    "5. Save interactive visualizations as HTML for sharing"
   ]
  },
  {
   "cell_type": "code",
   "execution_count": null,
   "metadata": {},
   "outputs": [
    {
     "ename": "AttributeError",
     "evalue": "'NoneType' object has no attribute 'write_html'",
     "output_type": "error",
     "traceback": [
      "\u001b[31m---------------------------------------------------------------------------\u001b[39m",
      "\u001b[31mAttributeError\u001b[39m                            Traceback (most recent call last)",
      "\u001b[36mCell\u001b[39m\u001b[36m \u001b[39m\u001b[32mIn[13]\u001b[39m\u001b[32m, line 17\u001b[39m\n\u001b[32m     13\u001b[39m     \u001b[38;5;28;01mpass\u001b[39;00m\n\u001b[32m     16\u001b[39m fig = create_plotly_plot(data, labels, exp_ids)\n\u001b[32m---> \u001b[39m\u001b[32m17\u001b[39m \u001b[43msave_plotly_figure_as_html\u001b[49m\u001b[43m(\u001b[49m\u001b[43mfig\u001b[49m\u001b[43m,\u001b[49m\u001b[43m \u001b[49m\u001b[43mplot_path\u001b[49m\u001b[43m \u001b[49m\u001b[43m/\u001b[49m\u001b[43m \u001b[49m\u001b[33;43m\"\u001b[39;49m\u001b[33;43mwelding_samples\u001b[39;49m\u001b[33;43m\"\u001b[39;49m\u001b[43m)\u001b[49m\n\u001b[32m     18\u001b[39m fig.show()\n",
      "\u001b[36mFile \u001b[39m\u001b[32m~/aml/AMLProjectPart1/utils.py:24\u001b[39m, in \u001b[36msave_plotly_figure_as_html\u001b[39m\u001b[34m(fig, filename_path)\u001b[39m\n\u001b[32m     21\u001b[39m     filename_path = filename_path.with_suffix(\u001b[33m'\u001b[39m\u001b[33m.html\u001b[39m\u001b[33m'\u001b[39m)\n\u001b[32m     23\u001b[39m \u001b[38;5;66;03m# Save the figure\u001b[39;00m\n\u001b[32m---> \u001b[39m\u001b[32m24\u001b[39m \u001b[43mfig\u001b[49m\u001b[43m.\u001b[49m\u001b[43mwrite_html\u001b[49m(filename_path)\n",
      "\u001b[31mAttributeError\u001b[39m: 'NoneType' object has no attribute 'write_html'"
     ]
    }
   ],
   "source": [
    "def create_plotly_plot(data: np.ndarray, labels: np.ndarray, exp_ids: np.ndarray = None) -> go.Figure:\n",
    "    \"\"\"\n",
    "    Create an interactive Plotly visualization of a random welding sample.\n",
    "\n",
    "    Args:\n",
    "        data (np.ndarray): Array containing voltage and current data\n",
    "        labels (np.ndarray): Array containing class labels\n",
    "        exp_ids (np.ndarray, optional): Array containing experiment IDs. Defaults to None.\n",
    "\n",
    "    Returns:\n",
    "        plotly.graph_objects.Figure: Interactive Plotly figure object\n",
    "    \"\"\"\n",
    "    pass\n",
    "\n",
    "\n",
    "fig = create_plotly_plot(data, labels, exp_ids)\n",
    "save_plotly_figure_as_html(fig, plot_path / \"welding_samples\")\n",
    "fig.show()"
   ]
  },
  {
   "cell_type": "markdown",
   "metadata": {},
   "source": [
    "## Exercise 2.5: Multiple Sample Comparison\n",
    "\n",
    "In this exercise, we'll generate and compare visualizations from multiple random welding samples. This comparison will help us identify common patterns and variations across different welding cycles.\n",
    " \n",
    "\n",
    "1. Generate multiple random sample visualizations using matplotlib of single welding cycles\n",
    "2. Create dual-axis plots showing voltage and current over time\n",
    "3. Implement clear legends and labels for data interpretation\n",
    "4. Save each visualization for comparison"
   ]
  },
  {
   "cell_type": "code",
   "execution_count": null,
   "metadata": {},
   "outputs": [],
   "source": [
    "data, labels, exp_ids = get_welding_data(data_path, n_samples=1_000)"
   ]
  },
  {
   "cell_type": "code",
   "execution_count": null,
   "metadata": {},
   "outputs": [],
   "source": [
    "for i in range(5):\n",
    "    plot_random_sample(data, labels, save_path=plot_path / f\"welding_sample_{i}.png\")\n",
    "    "
   ]
  },
  {
   "cell_type": "code",
   "execution_count": null,
   "metadata": {},
   "outputs": [],
   "source": []
  }
 ],
 "metadata": {
  "kernelspec": {
   "display_name": "venv",
   "language": "python",
   "name": "python3"
  },
  "language_info": {
   "codemirror_mode": {
    "name": "ipython",
    "version": 3
   },
   "file_extension": ".py",
   "mimetype": "text/x-python",
   "name": "python",
   "nbconvert_exporter": "python",
   "pygments_lexer": "ipython3",
   "version": "3.12.3"
  }
 },
 "nbformat": 4,
 "nbformat_minor": 2
}
